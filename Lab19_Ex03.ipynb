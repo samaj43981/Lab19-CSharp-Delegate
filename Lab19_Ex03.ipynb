{
 "cells": [
  {
   "cell_type": "markdown",
   "metadata": {
    "polyglot_notebook": {
     "kernelName": "csharp"
    }
   },
   "source": [
    "# Lab 19 Exercise 3\n",
    "\n"
   ]
  },
  {
   "cell_type": "markdown",
   "metadata": {},
   "source": [
    "## Passing delegate as parameter\n",
    "\n"
   ]
  },
  {
   "cell_type": "markdown",
   "metadata": {},
   "source": [
    "1.สร้าง console application project\n",
    "\n",
    "```cmd\n",
    "dotnet new console --name Lab19_Ex03\n",
    "```\n",
    "\n"
   ]
  },
  {
   "cell_type": "markdown",
   "metadata": {},
   "source": [
    "2.เปลี่ยน code ให้เป็นดังต่อไปนี้\n",
    "\n",
    "```csharp\n",
    "// passing delegate as parameter\n",
    "\n",
    "\n",
    "var im = new InstanceMethod();\n",
    "MyDelegate del = im.MethodA;\n",
    "InvokeDelegate(del);\n",
    "del = StaticMethod.MethodB;\n",
    "InvokeDelegate(del);\n",
    "del = (string message) => System.Console.WriteLine($\"You are calling anonymous method with message {message}\");\n",
    "InvokeDelegate(del);\n",
    "\n",
    "static void InvokeDelegate(MyDelegate myDel)\n",
    "{\n",
    "    myDel(\"Hello World\");\n",
    "}\n",
    "class InstanceMethod\n",
    "{\n",
    "     public void MethodA(string message)\n",
    "     {A\n",
    "        System.Console.WriteLine($\"You are calling instance MethodA() with message {message}\");\n",
    "     }\n",
    "}\n",
    "static class StaticMethod\n",
    "{\n",
    "     public static void MethodB(string message)\n",
    "     {\n",
    "        System.Console.WriteLine($\"You are calling static MethodB() with message {message}\");\n",
    "     }\n",
    "}\n",
    "\n",
    "public delegate void MyDelegate(string message);\n",
    "```\n",
    "\n"
   ]
  },
  {
   "cell_type": "markdown",
   "metadata": {},
   "source": [
    "3.Build project โดยการใช้คำสั่ง\n",
    "\n",
    "```cmd\n",
    "dotnet build  Lab19_Ex03\n",
    "```\n",
    "\n",
    "ถ้ามีที่ผิดพลาดในโปรแกรม ให้แก้ไขให้ถูกต้อง\n",
    "\n"
   ]
  },
  {
   "cell_type": "code",
   "execution_count": 2,
   "metadata": {
    "polyglot_notebook": {
     "kernelName": "csharp"
    }
   },
   "outputs": [
    {
     "name": "stdout",
     "output_type": "stream",
     "text": [
      "You are calling instance MethodA() with message Hello World\n",
      "You are calling static MethodB() with message Hello World\n",
      "You are calling anonymous method with message Hello World\n"
     ]
    }
   ],
   "source": [
    "// passing delegate as parameter\n",
    "\n",
    "var im = new InstanceMethod();\n",
    "MyDelegate del = im.MethodA;\n",
    "InvokeDelegate(del);\n",
    "del = StaticMethod.MethodB;\n",
    "InvokeDelegate(del);\n",
    "del = (string message) => System.Console.WriteLine($\"You are calling anonymous method with message {message}\");\n",
    "InvokeDelegate(del);\n",
    "\n",
    "static void InvokeDelegate(MyDelegate myDel)\n",
    "{\n",
    "    myDel(\"Hello World\");\n",
    "}\n",
    "\n",
    "class InstanceMethod\n",
    "{\n",
    "    public void MethodA(string message)\n",
    "    {\n",
    "        System.Console.WriteLine($\"You are calling instance MethodA() with message {message}\");\n",
    "    }\n",
    "}\n",
    "\n",
    "static class StaticMethod\n",
    "{\n",
    "    public static void MethodB(string message)\n",
    "    {\n",
    "        System.Console.WriteLine($\"You are calling static MethodB() with message {message}\");\n",
    "    }\n",
    "}\n",
    "\n",
    "public delegate void MyDelegate(string message);"
   ]
  },
  {
   "cell_type": "markdown",
   "metadata": {},
   "source": [
    "4.บันทึกผลที่ได้จากการรันคำสั่งในข้อ 3\n",
    "\n"
   ]
  },
  {
   "cell_type": "markdown",
   "metadata": {},
   "source": [
    "Restore complete (0.3s)\n",
    "  Lab19_Ex03 succeeded (0.4s) → Lab19_Ex03\\bin\\Debug\\net9.0\\Lab19_Ex03.dll\n",
    "\n",
    "Build succeeded in 1.1s"
   ]
  },
  {
   "cell_type": "markdown",
   "metadata": {},
   "source": [
    "5.Run project โดยการใช้คำสั่ง\n",
    "\n",
    "```cmd\n",
    "dotnet run --project Lab19_Ex03\n",
    "```\n",
    "\n"
   ]
  },
  {
   "cell_type": "markdown",
   "metadata": {},
   "source": [
    "6.บันทึกผลที่ได้จากการรันคำสั่งในข้อ 5\n",
    "\n"
   ]
  },
  {
   "cell_type": "markdown",
   "metadata": {},
   "source": [
    "You are calling instance MethodA() with message Hello World\n",
    "You are calling static MethodB() with message Hello World\n",
    "You are calling anonymous method with message Hello World"
   ]
  },
  {
   "cell_type": "markdown",
   "metadata": {},
   "source": [
    "7.อธิบายสิ่งที่พบในการทดลอง\n"
   ]
  }
 ],
 "metadata": {
  "kernelspec": {
   "display_name": ".NET (C#)",
   "language": "C#",
   "name": ".net-csharp"
  },
  "polyglot_notebook": {
   "kernelInfo": {
    "defaultKernelName": "csharp",
    "items": [
     {
      "aliases": [],
      "languageName": "csharp",
      "name": "csharp"
     }
    ]
   }
  }
 },
 "nbformat": 4,
 "nbformat_minor": 2
}
