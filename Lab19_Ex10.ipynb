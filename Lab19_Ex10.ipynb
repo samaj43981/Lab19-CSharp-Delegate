{
 "cells": [
  {
   "cell_type": "markdown",
   "metadata": {
    "polyglot_notebook": {
     "kernelName": "csharp"
    }
   },
   "source": [
    "# Lab 19 Exercise 10\n",
    "\n"
   ]
  },
  {
   "cell_type": "markdown",
   "metadata": {},
   "source": [
    "## Func\n",
    "\n"
   ]
  },
  {
   "cell_type": "markdown",
   "metadata": {},
   "source": [
    "1.สร้าง console application project\n",
    "\n",
    "```cmd\n",
    "dotnet new console --name Lab19_Ex10\n",
    "```\n",
    "\n"
   ]
  },
  {
   "cell_type": "markdown",
   "metadata": {},
   "source": [
    "2.เปลี่ยน code ให้เป็นดังต่อไปนี้\n",
    "\n",
    "```csharp\n",
    "// Func\n",
    "Func<int, int, int> add = Add;\n",
    "int a = 5, b= 9;\n",
    "int c = add(a,b);\n",
    "System.Console.WriteLine($\"Add({a}, {b}) return {c}\");\n",
    "\n",
    "Func <string, string> convertToUpper = s => s.ToUpper();\n",
    "string before = \"all Lowercase characters\";\n",
    "System.Console.WriteLine($\"Before = \\\"{before}\\\", after = \\\"{convertToUpper(before)}\\\"\");\n",
    "\n",
    "static int Add(int a, int b)\n",
    "{\n",
    "    return a + b;\n",
    "}\n",
    "```\n",
    "\n"
   ]
  },
  {
   "cell_type": "markdown",
   "metadata": {},
   "source": [
    "3.Build project โดยการใช้คำสั่ง\n",
    "\n",
    "```cmd\n",
    "dotnet build  Lab19_Ex10\n",
    "```\n",
    "\n",
    "ถ้ามีที่ผิดพลาดในโปรแกรม ให้แก้ไขให้ถูกต้อง\n",
    "\n"
   ]
  },
  {
   "cell_type": "code",
   "execution_count": 1,
   "metadata": {
    "polyglot_notebook": {
     "kernelName": "csharp"
    }
   },
   "outputs": [
    {
     "name": "stdout",
     "output_type": "stream",
     "text": [
      "Add(5, 9) return 14\n",
      "Before = \"all Lowercase characters\", after = \"ALL LOWERCASE CHARACTERS\"\n"
     ]
    }
   ],
   "source": [
    "// Func\n",
    "Func<int, int, int> add = Add;\n",
    "int a = 5, b= 9;\n",
    "int c = add(a,b);\n",
    "System.Console.WriteLine($\"Add({a}, {b}) return {c}\");\n",
    "\n",
    "Func <string, string> convertToUpper = s => s.ToUpper();\n",
    "string before = \"all Lowercase characters\";\n",
    "System.Console.WriteLine($\"Before = \\\"{before}\\\", after = \\\"{convertToUpper(before)}\\\"\");\n",
    "\n",
    "static int Add(int a, int b)\n",
    "{\n",
    "    return a + b;\n",
    "}"
   ]
  },
  {
   "cell_type": "markdown",
   "metadata": {},
   "source": [
    "4.บันทึกผลที่ได้จากการรันคำสั่งในข้อ 3\n",
    "\n"
   ]
  },
  {
   "cell_type": "markdown",
   "metadata": {},
   "source": [
    "Restore complete (0.3s)\n",
    "  Lab19_Ex10 succeeded (0.5s) → Lab19_Ex10\\bin\\Debug\\net9.0\\Lab19_Ex10.dll\n",
    "\n",
    "Build succeeded in 1.2s"
   ]
  },
  {
   "cell_type": "markdown",
   "metadata": {},
   "source": [
    "5.Run project โดยการใช้คำสั่ง\n",
    "\n",
    "```cmd\n",
    "dotnet run --project Lab19_Ex10\n",
    "```\n",
    "\n"
   ]
  },
  {
   "cell_type": "markdown",
   "metadata": {},
   "source": [
    "6.บันทึกผลที่ได้จากการรันคำสั่งในข้อ 5\n",
    "\n"
   ]
  },
  {
   "cell_type": "markdown",
   "metadata": {},
   "source": [
    "Add(5, 9) return 14\n",
    "Before = \"all Lowercase characters\", after = \"ALL LOWERCASE CHARACTERS\""
   ]
  },
  {
   "cell_type": "markdown",
   "metadata": {},
   "source": [
    "7.อธิบายสิ่งที่พบในการทดลอง\n"
   ]
  }
 ],
 "metadata": {
  "kernelspec": {
   "display_name": ".NET (C#)",
   "language": "C#",
   "name": ".net-csharp"
  },
  "polyglot_notebook": {
   "kernelInfo": {
    "defaultKernelName": "csharp",
    "items": [
     {
      "aliases": [],
      "languageName": "csharp",
      "name": "csharp"
     }
    ]
   }
  }
 },
 "nbformat": 4,
 "nbformat_minor": 2
}
